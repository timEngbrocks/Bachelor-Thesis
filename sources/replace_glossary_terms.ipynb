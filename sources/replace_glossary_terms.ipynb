{
 "cells": [
  {
   "cell_type": "code",
   "execution_count": null,
   "metadata": {},
   "outputs": [],
   "source": [
    "import os\n",
    "from distutils.dir_util import copy_tree\n",
    "import time\n",
    "\n",
    "def join(arr):\n",
    "    str = \"\"\n",
    "    for i in range(len(arr)):\n",
    "        str += arr[i] + \" \"\n",
    "    return str[:-1]\n",
    "\n",
    "terms_file = open('../chapters/used_terms.tex')\n",
    "\n",
    "terms = set([])\n",
    "\n",
    "for line in terms_file:\n",
    "    if line.startswith('\\\\newglossaryentry'):\n",
    "        temp = line.split(\"{\")\n",
    "        term = temp[1].strip().replace('}', '')\n",
    "        terms.add(term)\n",
    "\n",
    "directory = \"../chapters\"\n",
    "archive = \"../archive\"\n",
    "if not os.path.isdir(archive):\n",
    "    os.mkdir(archive)\n",
    "current_archive = \"{archive}/{stamp}\".format(archive = archive, stamp = int(time.time()))\n",
    "os.mkdir(current_archive)\n",
    "copy_tree(directory, current_archive)\n",
    "for file in os.listdir(directory):\n",
    "    filename = os.fsdecode(file)\n",
    "    if filename.endswith(\".tex\"):\n",
    "        path = \"{dir}/{file}\".format(dir = directory, file = filename)\n",
    "        source = open(path)\n",
    "        lines = []\n",
    "        for line in source:\n",
    "            lines.append(line)\n",
    "        with open(path, \"w\") as target:\n",
    "            for line in lines:\n",
    "                words = line.split(' ')\n",
    "                for i in range(len(words)):\n",
    "                    if words[i] in terms:\n",
    "                        words[i] = \"\\Gls{{{term}}}\".format(term = words[i])\n",
    "                updated_line = join(words)\n",
    "                target.write(updated_line)"
   ]
  }
 ],
 "metadata": {
  "kernelspec": {
   "display_name": "Python 3",
   "language": "python",
   "name": "python3"
  },
  "language_info": {
   "codemirror_mode": {
    "name": "ipython",
    "version": 3
   },
   "file_extension": ".py",
   "mimetype": "text/x-python",
   "name": "python",
   "nbconvert_exporter": "python",
   "pygments_lexer": "ipython3",
   "version": "3.8.10"
  },
  "orig_nbformat": 4
 },
 "nbformat": 4,
 "nbformat_minor": 2
}
